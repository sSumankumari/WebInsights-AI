{
 "cells": [
  {
   "cell_type": "markdown",
   "id": "8e36a1d5",
   "metadata": {},
   "source": [
    "# Document Loaders in LangChain"
   ]
  },
  {
   "cell_type": "code",
   "execution_count": 1,
   "id": "e4a34f89",
   "metadata": {},
   "outputs": [
    {
     "data": {
      "text/plain": [
       "[Document(metadata={'source': '../data/nvda_news_1.txt'}, page_content=\"The stock of NVIDIA Corp (NASDAQ:NVDA) experienced a daily loss of -3.56% and a 3-month gain of 32.35%. With an Earnings Per Share (EPS) (EPS) of $1.92, the question arises: is the stock significantly overvalued? This article aims to provide a detailed valuation analysis of NVIDIA, offering insights into its financial strength, profitability, growth, and more. We invite you to delve into this comprehensive analysis.\\n\\nCompany Overview\\nWarning! GuruFocus has detected 10 Warning Signs with NVDA. Click here to check it out.\\n\\nNVDA 30-Year Financial Data\\n\\nThe intrinsic value of NVDA\\n\\n\\nNVIDIA Corp (NASDAQ:NVDA) is a leading designer of discrete graphics processing units that enhance the experience on computing platforms. The firm's chips are widely used in various end markets, including PC gaming and data centers. In recent years, NVIDIA has broadened its focus from traditional PC graphics applications such as gaming to more complex and favorable opportunities, including artificial intelligence and autonomous driving, leveraging the high-performance capabilities of its products.\\n\\nCurrently, NVIDIA's stock price stands at $418.01, significantly higher than the GF Value of $310.28, indicating the stock might be overvalued. With a market cap of $1 trillion, the valuation seems steep. The following analysis aims to delve deeper into the company's value.\\n\\nIs NVIDIA's Stock Significantly Overvalued? A Comprehensive Valuation Analysis\\nIs NVIDIA's Stock Significantly Overvalued? A Comprehensive Valuation Analysis\\nUnderstanding the GF Value\\nThe GF Value is a unique measure of the intrinsic value of a stock, calculated based on historical trading multiples, a GuruFocus adjustment factor, and future business performance estimates. If the stock price is significantly above the GF Value Line, it is overvalued, and its future return is likely to be poor. Conversely, if it is significantly below the GF Value Line, its future return will likely be higher.\\n\\nAccording to GuruFocus Value calculation, NVIDIA (NASDAQ:NVDA) appears to be significantly overvalued. The stock's current price of $418.01 per share and the market cap of $1 trillion further strengthen this assumption.\\n\\nGiven that NVIDIA is significantly overvalued, the long-term return of its stock is likely to be much lower than its future business growth.\\n\\nIs NVIDIA's Stock Significantly Overvalued? A Comprehensive Valuation Analysis\\nIs NVIDIA's Stock Significantly Overvalued? A Comprehensive Valuation Analysis\\nLink: These companies may deliver higher future returns at reduced risk.\\n\\nFinancial Strength of NVIDIA\\nExamining the financial strength of a company is crucial before investing in its stock. Companies with poor financial strength pose a higher risk of permanent loss. NVIDIA's cash-to-debt ratio of 1.27 is worse than 58.04% of companies in the Semiconductors industry. However, NVIDIA's overall financial strength is 8 out of 10, indicating a strong financial position.\\n\\nIs NVIDIA's Stock Significantly Overvalued? A Comprehensive Valuation Analysis\\nIs NVIDIA's Stock Significantly Overvalued? A Comprehensive Valuation Analysis\\nProfitability and Growth\\nConsistent profitability over the long term reduces the risk for investors. NVIDIA, with its profitability ranking of 10 out of 10, has been profitable for the past 10 years. The company's operating margin of 17.37% ranks better than 76.5% of companies in the Semiconductors industry.\\n\\nHowever, growth is a crucial factor in a company's valuation. NVIDIA's growth ranks worse than 52.99% of companies in the Semiconductors industry, with its 3-year average revenue growth rate better than 87.88% of companies in the industry.\\n\\nROIC vs WACC\\nComparing a company's return on invested capital (ROIC) to its weighted average cost of capital (WACC) is an effective way to evaluate its profitability. Over the past 12 months, NVIDIA's ROIC was 20.32 while its WACC was 16.74, suggesting that the company is creating value for its shareholders.\\n\\nIs NVIDIA's Stock Significantly Overvalued? A Comprehensive Valuation Analysis\\nIs NVIDIA's Stock Significantly Overvalued? A Comprehensive Valuation Analysis\\nConclusion\\nIn conclusion, NVIDIA (NASDAQ:NVDA) appears to be significantly overvalued. Despite its strong financial condition and profitability, its growth ranks lower than 52.99% of companies in the Semiconductors industry. To learn more about NVIDIA stock, you can check out its 30-Year Financials here.\\n\\nTo find out the high quality companies that may deliver above-average returns, please check out GuruFocus High Quality Low Capex Screener.\\n\\nThis article first appeared on GuruFocus.\")]"
      ]
     },
     "execution_count": 1,
     "metadata": {},
     "output_type": "execute_result"
    }
   ],
   "source": [
    "from langchain.document_loaders import TextLoader\n",
    "\n",
    "loader = TextLoader(\"../data/nvda_news_1.txt\")\n",
    "loader.load()"
   ]
  },
  {
   "cell_type": "code",
   "execution_count": 2,
   "id": "cf1ab850",
   "metadata": {},
   "outputs": [
    {
     "data": {
      "text/plain": [
       "langchain_community.document_loaders.text.TextLoader"
      ]
     },
     "execution_count": 2,
     "metadata": {},
     "output_type": "execute_result"
    }
   ],
   "source": [
    "type(loader)"
   ]
  },
  {
   "cell_type": "code",
   "execution_count": 3,
   "id": "addd2e10",
   "metadata": {},
   "outputs": [
    {
     "data": {
      "text/plain": [
       "'../data/nvda_news_1.txt'"
      ]
     },
     "execution_count": 3,
     "metadata": {},
     "output_type": "execute_result"
    }
   ],
   "source": [
    "loader.file_path"
   ]
  },
  {
   "cell_type": "markdown",
   "id": "490aecbe",
   "metadata": {},
   "source": [
    "### CSV Loader"
   ]
  },
  {
   "cell_type": "code",
   "execution_count": 4,
   "id": "8f5be337",
   "metadata": {},
   "outputs": [],
   "source": [
    "from langchain.document_loaders.csv_loader import CSVLoader"
   ]
  },
  {
   "cell_type": "code",
   "execution_count": 5,
   "id": "8614f3ee",
   "metadata": {},
   "outputs": [
    {
     "data": {
      "text/plain": [
       "[Document(metadata={'source': '../data/movies.csv', 'row': 0}, page_content='movie_id: 101\\ntitle: K.G.F: Chapter 2\\nindustry: Bollywood\\nrelease_year: 2022\\nimdb_rating: 8.4\\nstudio: Hombale Films\\nlanguage_id: 3\\nbudget: 1\\nrevenue: 12.5\\nunit: Billions\\ncurrency: INR'),\n",
       " Document(metadata={'source': '../data/movies.csv', 'row': 1}, page_content='movie_id: 102\\ntitle: Doctor Strange in the Multiverse of Madness\\nindustry: Hollywood\\nrelease_year: 2022\\nimdb_rating: 7\\nstudio: Marvel Studios\\nlanguage_id: 5\\nbudget: 200\\nrevenue: 954.8\\nunit: Millions\\ncurrency: USD'),\n",
       " Document(metadata={'source': '../data/movies.csv', 'row': 2}, page_content='movie_id: 103\\ntitle: Thor: The Dark World\\nindustry: Hollywood\\nrelease_year: 2013\\nimdb_rating: 6.8\\nstudio: Marvel Studios\\nlanguage_id: 5\\nbudget: 165\\nrevenue: 644.8\\nunit: Millions\\ncurrency: USD'),\n",
       " Document(metadata={'source': '../data/movies.csv', 'row': 3}, page_content='movie_id: 104\\ntitle: Thor: Ragnarok\\nindustry: Hollywood\\nrelease_year: 2017\\nimdb_rating: 7.9\\nstudio: Marvel Studios\\nlanguage_id: 5\\nbudget: 180\\nrevenue: 854\\nunit: Millions\\ncurrency: USD'),\n",
       " Document(metadata={'source': '../data/movies.csv', 'row': 4}, page_content='movie_id: 105\\ntitle: Thor: Love and Thunder\\nindustry: Hollywood\\nrelease_year: 2022\\nimdb_rating: 6.8\\nstudio: Marvel Studios\\nlanguage_id: 5\\nbudget: 250\\nrevenue: 670\\nunit: Millions\\ncurrency: USD'),\n",
       " Document(metadata={'source': '../data/movies.csv', 'row': 5}, page_content='movie_id: 106\\ntitle: Sholay\\nindustry: Bollywood\\nrelease_year: 1975\\nimdb_rating: 8.1\\nstudio: United Producers\\nlanguage_id: 1\\nbudget: Not Available\\nrevenue: Not Available\\nunit: Not Available\\ncurrency: Not Available'),\n",
       " Document(metadata={'source': '../data/movies.csv', 'row': 6}, page_content='movie_id: 107\\ntitle: Dilwale Dulhania Le Jayenge\\nindustry: Bollywood\\nrelease_year: 1995\\nimdb_rating: 8\\nstudio: Yash Raj Films\\nlanguage_id: 1\\nbudget: 400\\nrevenue: 2000\\nunit: Millions\\ncurrency: INR'),\n",
       " Document(metadata={'source': '../data/movies.csv', 'row': 7}, page_content='movie_id: 108\\ntitle: 3 Idiots\\nindustry: Bollywood\\nrelease_year: 2009\\nimdb_rating: 8.4\\nstudio: Vinod Chopra Films\\nlanguage_id: 1\\nbudget: 550\\nrevenue: 4000\\nunit: Millions\\ncurrency: INR'),\n",
       " Document(metadata={'source': '../data/movies.csv', 'row': 8}, page_content='movie_id: 109\\ntitle: Kabhi Khushi Kabhie Gham\\nindustry: Bollywood\\nrelease_year: 2001\\nimdb_rating: 7.4\\nstudio: Dharma Productions\\nlanguage_id: 1\\nbudget: 390\\nrevenue: 1360\\nunit: Millions\\ncurrency: INR')]"
      ]
     },
     "execution_count": 5,
     "metadata": {},
     "output_type": "execute_result"
    }
   ],
   "source": [
    "loader = CSVLoader(file_path=\"../data/movies.csv\")\n",
    "\n",
    "data = loader.load()\n",
    "data"
   ]
  },
  {
   "cell_type": "code",
   "execution_count": 6,
   "id": "ea307db8",
   "metadata": {},
   "outputs": [
    {
     "data": {
      "text/plain": [
       "Document(metadata={'source': '../data/movies.csv', 'row': 0}, page_content='movie_id: 101\\ntitle: K.G.F: Chapter 2\\nindustry: Bollywood\\nrelease_year: 2022\\nimdb_rating: 8.4\\nstudio: Hombale Films\\nlanguage_id: 3\\nbudget: 1\\nrevenue: 12.5\\nunit: Billions\\ncurrency: INR')"
      ]
     },
     "execution_count": 6,
     "metadata": {},
     "output_type": "execute_result"
    }
   ],
   "source": [
    "data[0]"
   ]
  },
  {
   "cell_type": "code",
   "execution_count": 7,
   "id": "7e3c9488",
   "metadata": {},
   "outputs": [
    {
     "data": {
      "text/plain": [
       "[Document(metadata={'source': 'K.G.F: Chapter 2', 'row': 0}, page_content='movie_id: 101\\ntitle: K.G.F: Chapter 2\\nindustry: Bollywood\\nrelease_year: 2022\\nimdb_rating: 8.4\\nstudio: Hombale Films\\nlanguage_id: 3\\nbudget: 1\\nrevenue: 12.5\\nunit: Billions\\ncurrency: INR'),\n",
       " Document(metadata={'source': 'Doctor Strange in the Multiverse of Madness', 'row': 1}, page_content='movie_id: 102\\ntitle: Doctor Strange in the Multiverse of Madness\\nindustry: Hollywood\\nrelease_year: 2022\\nimdb_rating: 7\\nstudio: Marvel Studios\\nlanguage_id: 5\\nbudget: 200\\nrevenue: 954.8\\nunit: Millions\\ncurrency: USD'),\n",
       " Document(metadata={'source': 'Thor: The Dark World', 'row': 2}, page_content='movie_id: 103\\ntitle: Thor: The Dark World\\nindustry: Hollywood\\nrelease_year: 2013\\nimdb_rating: 6.8\\nstudio: Marvel Studios\\nlanguage_id: 5\\nbudget: 165\\nrevenue: 644.8\\nunit: Millions\\ncurrency: USD'),\n",
       " Document(metadata={'source': 'Thor: Ragnarok', 'row': 3}, page_content='movie_id: 104\\ntitle: Thor: Ragnarok\\nindustry: Hollywood\\nrelease_year: 2017\\nimdb_rating: 7.9\\nstudio: Marvel Studios\\nlanguage_id: 5\\nbudget: 180\\nrevenue: 854\\nunit: Millions\\ncurrency: USD'),\n",
       " Document(metadata={'source': 'Thor: Love and Thunder', 'row': 4}, page_content='movie_id: 105\\ntitle: Thor: Love and Thunder\\nindustry: Hollywood\\nrelease_year: 2022\\nimdb_rating: 6.8\\nstudio: Marvel Studios\\nlanguage_id: 5\\nbudget: 250\\nrevenue: 670\\nunit: Millions\\ncurrency: USD'),\n",
       " Document(metadata={'source': 'Sholay', 'row': 5}, page_content='movie_id: 106\\ntitle: Sholay\\nindustry: Bollywood\\nrelease_year: 1975\\nimdb_rating: 8.1\\nstudio: United Producers\\nlanguage_id: 1\\nbudget: Not Available\\nrevenue: Not Available\\nunit: Not Available\\ncurrency: Not Available'),\n",
       " Document(metadata={'source': 'Dilwale Dulhania Le Jayenge', 'row': 6}, page_content='movie_id: 107\\ntitle: Dilwale Dulhania Le Jayenge\\nindustry: Bollywood\\nrelease_year: 1995\\nimdb_rating: 8\\nstudio: Yash Raj Films\\nlanguage_id: 1\\nbudget: 400\\nrevenue: 2000\\nunit: Millions\\ncurrency: INR'),\n",
       " Document(metadata={'source': '3 Idiots', 'row': 7}, page_content='movie_id: 108\\ntitle: 3 Idiots\\nindustry: Bollywood\\nrelease_year: 2009\\nimdb_rating: 8.4\\nstudio: Vinod Chopra Films\\nlanguage_id: 1\\nbudget: 550\\nrevenue: 4000\\nunit: Millions\\ncurrency: INR'),\n",
       " Document(metadata={'source': 'Kabhi Khushi Kabhie Gham', 'row': 8}, page_content='movie_id: 109\\ntitle: Kabhi Khushi Kabhie Gham\\nindustry: Bollywood\\nrelease_year: 2001\\nimdb_rating: 7.4\\nstudio: Dharma Productions\\nlanguage_id: 1\\nbudget: 390\\nrevenue: 1360\\nunit: Millions\\ncurrency: INR')]"
      ]
     },
     "execution_count": 7,
     "metadata": {},
     "output_type": "execute_result"
    }
   ],
   "source": [
    "loader = CSVLoader(file_path=\"../data/movies.csv\", source_column=\"title\")\n",
    "data = loader.load()\n",
    "data"
   ]
  },
  {
   "cell_type": "code",
   "execution_count": 8,
   "id": "fbf67118",
   "metadata": {},
   "outputs": [
    {
     "data": {
      "text/plain": [
       "'movie_id: 101\\ntitle: K.G.F: Chapter 2\\nindustry: Bollywood\\nrelease_year: 2022\\nimdb_rating: 8.4\\nstudio: Hombale Films\\nlanguage_id: 3\\nbudget: 1\\nrevenue: 12.5\\nunit: Billions\\ncurrency: INR'"
      ]
     },
     "execution_count": 8,
     "metadata": {},
     "output_type": "execute_result"
    }
   ],
   "source": [
    "data[0].page_content"
   ]
  },
  {
   "cell_type": "code",
   "execution_count": 9,
   "id": "b6135f39",
   "metadata": {},
   "outputs": [
    {
     "data": {
      "text/plain": [
       "{'source': 'K.G.F: Chapter 2', 'row': 0}"
      ]
     },
     "execution_count": 9,
     "metadata": {},
     "output_type": "execute_result"
    }
   ],
   "source": [
    "data[0].metadata"
   ]
  },
  {
   "cell_type": "markdown",
   "id": "0906f0df",
   "metadata": {},
   "source": [
    "### Unstructured URL Loader"
   ]
  },
  {
   "cell_type": "markdown",
   "id": "c6070ef6",
   "metadata": {},
   "source": [
    "UnstructuredURLLoader of Langchain internally uses unstructured python library to load the content from url's\n",
    "\n",
    "https://unstructured-io.github.io/unstructured/introduction.html\n",
    "\n",
    "https://pypi.org/project/unstructured/#description"
   ]
  },
  {
   "cell_type": "code",
   "execution_count": 10,
   "id": "e233e31a",
   "metadata": {},
   "outputs": [
    {
     "name": "stdout",
     "output_type": "stream",
     "text": [
      "Collecting unstructured\n",
      "  Downloading unstructured-0.15.9-py3-none-any.whl.metadata (29 kB)\n",
      "Collecting libmagic\n",
      "  Downloading libmagic-1.0.tar.gz (3.7 kB)\n",
      "  Preparing metadata (setup.py): started\n",
      "  Preparing metadata (setup.py): finished with status 'done'\n",
      "Collecting python-magic\n",
      "  Downloading python_magic-0.4.27-py2.py3-none-any.whl.metadata (5.8 kB)\n",
      "Collecting python-magic-bin\n",
      "  Downloading python_magic_bin-0.4.14-py2.py3-none-win_amd64.whl.metadata (710 bytes)\n",
      "Requirement already satisfied: chardet in c:\\users\\suman\\anaconda3\\lib\\site-packages (from unstructured) (3.0.4)\n",
      "Collecting filetype (from unstructured)\n",
      "  Downloading filetype-1.2.0-py2.py3-none-any.whl.metadata (6.5 kB)\n",
      "Requirement already satisfied: lxml in c:\\users\\suman\\anaconda3\\lib\\site-packages (from unstructured) (4.9.1)\n",
      "Requirement already satisfied: nltk in c:\\users\\suman\\anaconda3\\lib\\site-packages (from unstructured) (3.7)\n",
      "Requirement already satisfied: tabulate in c:\\users\\suman\\anaconda3\\lib\\site-packages (from unstructured) (0.8.10)\n",
      "Requirement already satisfied: requests in c:\\users\\suman\\anaconda3\\lib\\site-packages (from unstructured) (2.28.1)\n",
      "Requirement already satisfied: beautifulsoup4 in c:\\users\\suman\\anaconda3\\lib\\site-packages (from unstructured) (4.11.1)\n",
      "Collecting emoji (from unstructured)\n",
      "  Downloading emoji-2.12.1-py3-none-any.whl.metadata (5.4 kB)\n",
      "Requirement already satisfied: dataclasses-json in c:\\users\\suman\\anaconda3\\lib\\site-packages (from unstructured) (0.6.7)\n",
      "Collecting python-iso639 (from unstructured)\n",
      "  Downloading python_iso639-2024.4.27-py3-none-any.whl.metadata (13 kB)\n",
      "Collecting langdetect (from unstructured)\n",
      "  Downloading langdetect-1.0.9.tar.gz (981 kB)\n",
      "     ---------------------------------------- 0.0/981.5 kB ? eta -:--:--\n",
      "     ---------------------------------------- 0.0/981.5 kB ? eta -:--:--\n",
      "     ---------------------------------------- 0.0/981.5 kB ? eta -:--:--\n",
      "     ---------- ----------------------------- 262.1/981.5 kB ? eta -:--:--\n",
      "     ---------- ----------------------------- 262.1/981.5 kB ? eta -:--:--\n",
      "     ---------- ----------------------------- 262.1/981.5 kB ? eta -:--:--\n",
      "     ---------- ----------------------------- 262.1/981.5 kB ? eta -:--:--\n",
      "     ---------- ----------------------------- 262.1/981.5 kB ? eta -:--:--\n",
      "     ---------- ----------------------------- 262.1/981.5 kB ? eta -:--:--\n",
      "     ---------- ----------------------------- 262.1/981.5 kB ? eta -:--:--\n",
      "     ---------- ----------------------------- 262.1/981.5 kB ? eta -:--:--\n",
      "     ------------------- ---------------- 524.3/981.5 kB 169.5 kB/s eta 0:00:03\n",
      "     ------------------- ---------------- 524.3/981.5 kB 169.5 kB/s eta 0:00:03\n",
      "     ------------------- ---------------- 524.3/981.5 kB 169.5 kB/s eta 0:00:03\n",
      "     ------------------- ---------------- 524.3/981.5 kB 169.5 kB/s eta 0:00:03\n",
      "     ------------------- ---------------- 524.3/981.5 kB 169.5 kB/s eta 0:00:03\n",
      "     ---------------------------- ------- 786.4/981.5 kB 196.2 kB/s eta 0:00:01\n",
      "     ---------------------------- ------- 786.4/981.5 kB 196.2 kB/s eta 0:00:01\n",
      "     ---------------------------- ------- 786.4/981.5 kB 196.2 kB/s eta 0:00:01\n",
      "     ---------------------------- ------- 786.4/981.5 kB 196.2 kB/s eta 0:00:01\n",
      "     ------------------------------------ 981.5/981.5 kB 208.3 kB/s eta 0:00:00\n",
      "  Preparing metadata (setup.py): started\n",
      "  Preparing metadata (setup.py): finished with status 'done'\n",
      "Requirement already satisfied: numpy<2 in c:\\users\\suman\\anaconda3\\lib\\site-packages (from unstructured) (1.23.5)\n",
      "Requirement already satisfied: rapidfuzz in c:\\users\\suman\\anaconda3\\lib\\site-packages (from unstructured) (3.8.1)\n",
      "Collecting backoff (from unstructured)\n",
      "  Downloading backoff-2.2.1-py3-none-any.whl.metadata (14 kB)\n",
      "Requirement already satisfied: typing-extensions in c:\\users\\suman\\anaconda3\\lib\\site-packages (from unstructured) (4.12.2)\n",
      "Collecting unstructured-client (from unstructured)\n",
      "  Downloading unstructured_client-0.25.7-py3-none-any.whl.metadata (15 kB)\n",
      "Requirement already satisfied: wrapt in c:\\users\\suman\\anaconda3\\lib\\site-packages (from unstructured) (1.14.1)\n",
      "Requirement already satisfied: tqdm in c:\\users\\suman\\anaconda3\\lib\\site-packages (from unstructured) (4.64.1)\n",
      "Requirement already satisfied: psutil in c:\\users\\suman\\anaconda3\\lib\\site-packages (from unstructured) (5.9.0)\n",
      "Collecting python-oxmsg (from unstructured)\n",
      "  Downloading python_oxmsg-0.0.1-py3-none-any.whl.metadata (5.0 kB)\n",
      "Requirement already satisfied: soupsieve>1.2 in c:\\users\\suman\\anaconda3\\lib\\site-packages (from beautifulsoup4->unstructured) (2.3.2.post1)\n",
      "Requirement already satisfied: marshmallow<4.0.0,>=3.18.0 in c:\\users\\suman\\anaconda3\\lib\\site-packages (from dataclasses-json->unstructured) (3.21.3)\n",
      "Requirement already satisfied: typing-inspect<1,>=0.4.0 in c:\\users\\suman\\anaconda3\\lib\\site-packages (from dataclasses-json->unstructured) (0.9.0)\n",
      "Requirement already satisfied: six in c:\\users\\suman\\anaconda3\\lib\\site-packages (from langdetect->unstructured) (1.16.0)\n",
      "Requirement already satisfied: click in c:\\users\\suman\\anaconda3\\lib\\site-packages (from nltk->unstructured) (8.0.4)\n",
      "Requirement already satisfied: joblib in c:\\users\\suman\\anaconda3\\lib\\site-packages (from nltk->unstructured) (1.4.2)\n",
      "Requirement already satisfied: regex>=2021.8.3 in c:\\users\\suman\\anaconda3\\lib\\site-packages (from nltk->unstructured) (2022.7.9)\n",
      "Collecting olefile (from python-oxmsg->unstructured)\n",
      "  Downloading olefile-0.47-py2.py3-none-any.whl.metadata (9.7 kB)\n",
      "Requirement already satisfied: charset-normalizer<3,>=2 in c:\\users\\suman\\anaconda3\\lib\\site-packages (from requests->unstructured) (2.0.4)\n",
      "Requirement already satisfied: idna<4,>=2.5 in c:\\users\\suman\\anaconda3\\lib\\site-packages (from requests->unstructured) (2.10)\n",
      "Requirement already satisfied: urllib3<1.27,>=1.21.1 in c:\\users\\suman\\anaconda3\\lib\\site-packages (from requests->unstructured) (1.26.14)\n",
      "Requirement already satisfied: certifi>=2017.4.17 in c:\\users\\suman\\anaconda3\\lib\\site-packages (from requests->unstructured) (2022.12.7)\n",
      "Requirement already satisfied: colorama in c:\\users\\suman\\anaconda3\\lib\\site-packages (from tqdm->unstructured) (0.4.6)\n",
      "Collecting certifi>=2017.4.17 (from requests->unstructured)\n",
      "  Downloading certifi-2024.8.30-py3-none-any.whl.metadata (2.2 kB)\n",
      "INFO: pip is looking at multiple versions of unstructured-client to determine which version is compatible with other requirements. This could take a while.\n",
      "Collecting unstructured-client (from unstructured)\n",
      "  Downloading unstructured_client-0.25.6-py3-none-any.whl.metadata (15 kB)\n",
      "  Downloading unstructured_client-0.25.5-py3-none-any.whl.metadata (13 kB)\n",
      "  Downloading unstructured_client-0.25.4-py3-none-any.whl.metadata (13 kB)\n",
      "  Downloading unstructured_client-0.25.3-py3-none-any.whl.metadata (13 kB)\n",
      "  Downloading unstructured_client-0.25.2-py3-none-any.whl.metadata (13 kB)\n",
      "  Downloading unstructured_client-0.25.1-py3-none-any.whl.metadata (13 kB)\n",
      "  Downloading unstructured_client-0.25.0-py3-none-any.whl.metadata (13 kB)\n",
      "INFO: pip is still looking at multiple versions of unstructured-client to determine which version is compatible with other requirements. This could take a while.\n",
      "  Downloading unstructured_client-0.24.1-py3-none-any.whl.metadata (12 kB)\n",
      "  Downloading unstructured_client-0.24.0-py3-none-any.whl.metadata (12 kB)\n",
      "  Downloading unstructured_client-0.23.9-py3-none-any.whl.metadata (12 kB)\n",
      "  Downloading unstructured_client-0.23.8-py3-none-any.whl.metadata (12 kB)\n",
      "  Downloading unstructured_client-0.23.7-py3-none-any.whl.metadata (12 kB)\n",
      "INFO: This is taking longer than usual. You might need to provide the dependency resolver with stricter constraints to reduce runtime. See https://pip.pypa.io/warnings/backtracking for guidance. If you want to abort this run, press Ctrl + C.\n",
      "  Downloading unstructured_client-0.23.5-py3-none-any.whl.metadata (12 kB)\n",
      "  Downloading unstructured_client-0.23.3-py3-none-any.whl.metadata (12 kB)\n",
      "  Downloading unstructured_client-0.23.2-py3-none-any.whl.metadata (12 kB)\n",
      "  Downloading unstructured_client-0.23.1-py3-none-any.whl.metadata (11 kB)\n",
      "  Downloading unstructured_client-0.23.0-py3-none-any.whl.metadata (11 kB)\n",
      "  Downloading unstructured_client-0.22.0-py3-none-any.whl.metadata (7.3 kB)\n",
      "  Downloading unstructured_client-0.21.1-py3-none-any.whl.metadata (7.3 kB)\n",
      "  Downloading unstructured_client-0.21.0-py3-none-any.whl.metadata (5.0 kB)\n",
      "  Downloading unstructured_client-0.18.0-py3-none-any.whl.metadata (4.9 kB)\n",
      "  Downloading unstructured_client-0.17.0-py3-none-any.whl.metadata (4.9 kB)\n",
      "  Downloading unstructured_client-0.16.0-py3-none-any.whl.metadata (4.9 kB)\n",
      "  Downloading unstructured_client-0.15.5-py3-none-any.whl.metadata (4.9 kB)\n",
      "  Downloading unstructured_client-0.15.2-py3-none-any.whl.metadata (4.9 kB)\n",
      "  Downloading unstructured_client-0.15.1-py3-none-any.whl.metadata (4.9 kB)\n",
      "  Downloading unstructured_client-0.15.0-py3-none-any.whl.metadata (4.9 kB)\n",
      "  Downloading unstructured_client-0.14.3-py3-none-any.whl.metadata (4.9 kB)\n",
      "  Downloading unstructured_client-0.14.0-py3-none-any.whl.metadata (4.9 kB)\n",
      "  Downloading unstructured_client-0.12.2-py3-none-any.whl.metadata (5.0 kB)\n",
      "  Downloading unstructured_client-0.12.1-py3-none-any.whl.metadata (5.0 kB)\n",
      "  Downloading unstructured_client-0.8.1-py3-none-any.whl.metadata (4.5 kB)\n",
      "Collecting charset-normalizer<3,>=2 (from requests->unstructured)\n",
      "  Downloading charset_normalizer-2.1.1-py3-none-any.whl.metadata (11 kB)\n",
      "Collecting idna<4,>=2.5 (from requests->unstructured)\n",
      "  Downloading idna-3.8-py3-none-any.whl.metadata (9.9 kB)\n",
      "Collecting jsonpath-python>=1.0.6 (from unstructured-client->unstructured)\n",
      "  Downloading jsonpath_python-1.0.6-py3-none-any.whl.metadata (12 kB)\n",
      "Collecting marshmallow-enum>=1.5.1 (from unstructured-client->unstructured)\n",
      "  Downloading marshmallow_enum-1.5.1-py2.py3-none-any.whl.metadata (2.5 kB)\n",
      "Requirement already satisfied: mypy-extensions>=0.4.3 in c:\\users\\suman\\anaconda3\\lib\\site-packages (from unstructured-client->unstructured) (0.4.3)\n",
      "Requirement already satisfied: packaging>=21.3 in c:\\users\\suman\\anaconda3\\lib\\site-packages (from unstructured-client->unstructured) (24.1)\n",
      "Requirement already satisfied: pyparsing>=3.0.9 in c:\\users\\suman\\anaconda3\\lib\\site-packages (from unstructured-client->unstructured) (3.0.9)\n",
      "Requirement already satisfied: python-dateutil>=2.8.2 in c:\\users\\suman\\anaconda3\\lib\\site-packages (from unstructured-client->unstructured) (2.8.2)\n",
      "Downloading unstructured-0.15.9-py3-none-any.whl (2.1 MB)\n",
      "   ---------------------------------------- 0.0/2.1 MB ? eta -:--:--\n",
      "   ---------------------------------------- 0.0/2.1 MB ? eta -:--:--\n",
      "   ---------------------------------------- 0.0/2.1 MB ? eta -:--:--\n",
      "   ---------------------------------------- 0.0/2.1 MB ? eta -:--:--\n",
      "   ---------------------------------------- 0.0/2.1 MB ? eta -:--:--\n",
      "   ---------------------------------------- 0.0/2.1 MB ? eta -:--:--\n",
      "   ---------------------------------------- 0.0/2.1 MB ? eta -:--:--\n",
      "   ---------------------------------------- 0.0/2.1 MB ? eta -:--:--\n",
      "   ---------------------------------------- 0.0/2.1 MB ? eta -:--:--\n",
      "   ---------------------------------------- 0.0/2.1 MB ? eta -:--:--\n",
      "   ---- ----------------------------------- 0.3/2.1 MB ? eta -:--:--\n",
      "   ---- ----------------------------------- 0.3/2.1 MB ? eta -:--:--\n",
      "   ---- ----------------------------------- 0.3/2.1 MB ? eta -:--:--\n",
      "   ---- ----------------------------------- 0.3/2.1 MB ? eta -:--:--\n",
      "   ---- ----------------------------------- 0.3/2.1 MB ? eta -:--:--\n",
      "   ---- ----------------------------------- 0.3/2.1 MB ? eta -:--:--\n",
      "   ---- ----------------------------------- 0.3/2.1 MB ? eta -:--:--\n",
      "   --------- ------------------------------ 0.5/2.1 MB 192.8 kB/s eta 0:00:09\n",
      "   --------- ------------------------------ 0.5/2.1 MB 192.8 kB/s eta 0:00:09\n",
      "   --------- ------------------------------ 0.5/2.1 MB 192.8 kB/s eta 0:00:09\n",
      "   --------- ------------------------------ 0.5/2.1 MB 192.8 kB/s eta 0:00:09\n",
      "   --------- ------------------------------ 0.5/2.1 MB 192.8 kB/s eta 0:00:09\n",
      "   --------- ------------------------------ 0.5/2.1 MB 192.8 kB/s eta 0:00:09\n",
      "   -------------- ------------------------- 0.8/2.1 MB 204.6 kB/s eta 0:00:07\n",
      "   -------------- ------------------------- 0.8/2.1 MB 204.6 kB/s eta 0:00:07\n",
      "   -------------- ------------------------- 0.8/2.1 MB 204.6 kB/s eta 0:00:07\n",
      "   -------------- ------------------------- 0.8/2.1 MB 204.6 kB/s eta 0:00:07\n",
      "   -------------- ------------------------- 0.8/2.1 MB 204.6 kB/s eta 0:00:07\n",
      "   -------------- ------------------------- 0.8/2.1 MB 204.6 kB/s eta 0:00:07\n",
      "   -------------- ------------------------- 0.8/2.1 MB 204.6 kB/s eta 0:00:07\n",
      "   -------------- ------------------------- 0.8/2.1 MB 204.6 kB/s eta 0:00:07\n",
      "   -------------- ------------------------- 0.8/2.1 MB 204.6 kB/s eta 0:00:07\n",
      "   -------------- ------------------------- 0.8/2.1 MB 204.6 kB/s eta 0:00:07\n",
      "   -------------- ------------------------- 0.8/2.1 MB 204.6 kB/s eta 0:00:07\n",
      "   -------------- ------------------------- 0.8/2.1 MB 204.6 kB/s eta 0:00:07\n",
      "   -------------- ------------------------- 0.8/2.1 MB 204.6 kB/s eta 0:00:07\n",
      "   -------------- ------------------------- 0.8/2.1 MB 204.6 kB/s eta 0:00:07\n",
      "   ------------------- -------------------- 1.0/2.1 MB 145.0 kB/s eta 0:00:08\n",
      "   ------------------- -------------------- 1.0/2.1 MB 145.0 kB/s eta 0:00:08\n",
      "   ------------------- -------------------- 1.0/2.1 MB 145.0 kB/s eta 0:00:08\n",
      "   ------------------- -------------------- 1.0/2.1 MB 145.0 kB/s eta 0:00:08\n",
      "   ------------------- -------------------- 1.0/2.1 MB 145.0 kB/s eta 0:00:08\n",
      "   ------------------- -------------------- 1.0/2.1 MB 145.0 kB/s eta 0:00:08\n",
      "   ------------------- -------------------- 1.0/2.1 MB 145.0 kB/s eta 0:00:08\n",
      "   ------------------- -------------------- 1.0/2.1 MB 145.0 kB/s eta 0:00:08\n",
      "   ------------------- -------------------- 1.0/2.1 MB 145.0 kB/s eta 0:00:08\n",
      "   ------------------- -------------------- 1.0/2.1 MB 145.0 kB/s eta 0:00:08\n",
      "   ------------------- -------------------- 1.0/2.1 MB 145.0 kB/s eta 0:00:08\n",
      "   ------------------- -------------------- 1.0/2.1 MB 145.0 kB/s eta 0:00:08\n",
      "   ------------------- -------------------- 1.0/2.1 MB 145.0 kB/s eta 0:00:08\n",
      "   ------------------- -------------------- 1.0/2.1 MB 145.0 kB/s eta 0:00:08\n",
      "   ------------------- -------------------- 1.0/2.1 MB 145.0 kB/s eta 0:00:08\n",
      "   ------------------- -------------------- 1.0/2.1 MB 145.0 kB/s eta 0:00:08\n",
      "   ------------------- -------------------- 1.0/2.1 MB 145.0 kB/s eta 0:00:08\n",
      "   ------------------- -------------------- 1.0/2.1 MB 145.0 kB/s eta 0:00:08\n",
      "   ------------------- -------------------- 1.0/2.1 MB 145.0 kB/s eta 0:00:08\n",
      "   ------------------- -------------------- 1.0/2.1 MB 145.0 kB/s eta 0:00:08\n",
      "   ------------------------ --------------- 1.3/2.1 MB 110.0 kB/s eta 0:00:08\n",
      "   ------------------------ --------------- 1.3/2.1 MB 110.0 kB/s eta 0:00:08\n",
      "   ------------------------ --------------- 1.3/2.1 MB 110.0 kB/s eta 0:00:08\n",
      "   ------------------------ --------------- 1.3/2.1 MB 110.0 kB/s eta 0:00:08\n",
      "   ------------------------ --------------- 1.3/2.1 MB 110.0 kB/s eta 0:00:08\n",
      "   ------------------------ --------------- 1.3/2.1 MB 110.0 kB/s eta 0:00:08\n",
      "   ------------------------ --------------- 1.3/2.1 MB 110.0 kB/s eta 0:00:08\n",
      "   ------------------------ --------------- 1.3/2.1 MB 110.0 kB/s eta 0:00:08\n",
      "   ------------------------ --------------- 1.3/2.1 MB 110.0 kB/s eta 0:00:08\n",
      "   ------------------------ --------------- 1.3/2.1 MB 110.0 kB/s eta 0:00:08\n",
      "   ------------------------ --------------- 1.3/2.1 MB 110.0 kB/s eta 0:00:08\n",
      "   ------------------------ --------------- 1.3/2.1 MB 110.0 kB/s eta 0:00:08\n",
      "   ------------------------ --------------- 1.3/2.1 MB 110.0 kB/s eta 0:00:08\n",
      "   ------------------------ --------------- 1.3/2.1 MB 110.0 kB/s eta 0:00:08\n",
      "   ------------------------ --------------- 1.3/2.1 MB 110.0 kB/s eta 0:00:08\n",
      "   ------------------------ --------------- 1.3/2.1 MB 110.0 kB/s eta 0:00:08\n",
      "   ------------------------ --------------- 1.3/2.1 MB 110.0 kB/s eta 0:00:08\n",
      "   ------------------------ --------------- 1.3/2.1 MB 110.0 kB/s eta 0:00:08\n",
      "   ------------------------ --------------- 1.3/2.1 MB 110.0 kB/s eta 0:00:08\n",
      "   ------------------------ --------------- 1.3/2.1 MB 110.0 kB/s eta 0:00:08\n",
      "   ------------------------ --------------- 1.3/2.1 MB 110.0 kB/s eta 0:00:08\n",
      "   ------------------------ --------------- 1.3/2.1 MB 110.0 kB/s eta 0:00:08\n",
      "   ------------------------ --------------- 1.3/2.1 MB 110.0 kB/s eta 0:00:08\n",
      "   ------------------------ --------------- 1.3/2.1 MB 110.0 kB/s eta 0:00:08\n",
      "   ------------------------ --------------- 1.3/2.1 MB 110.0 kB/s eta 0:00:08\n",
      "   ----------------------------- ---------- 1.6/2.1 MB 88.9 kB/s eta 0:00:07\n",
      "   ----------------------------- ---------- 1.6/2.1 MB 88.9 kB/s eta 0:00:07\n",
      "   ----------------------------- ---------- 1.6/2.1 MB 88.9 kB/s eta 0:00:07\n",
      "   ----------------------------- ---------- 1.6/2.1 MB 88.9 kB/s eta 0:00:07\n",
      "   ----------------------------- ---------- 1.6/2.1 MB 88.9 kB/s eta 0:00:07\n",
      "   ----------------------------- ---------- 1.6/2.1 MB 88.9 kB/s eta 0:00:07\n",
      "   ----------------------------- ---------- 1.6/2.1 MB 88.9 kB/s eta 0:00:07\n",
      "   ----------------------------- ---------- 1.6/2.1 MB 88.9 kB/s eta 0:00:07\n",
      "   ----------------------------- ---------- 1.6/2.1 MB 88.9 kB/s eta 0:00:07\n",
      "   ----------------------------- ---------- 1.6/2.1 MB 88.9 kB/s eta 0:00:07\n",
      "   ----------------------------- ---------- 1.6/2.1 MB 88.9 kB/s eta 0:00:07\n",
      "   ----------------------------- ---------- 1.6/2.1 MB 88.9 kB/s eta 0:00:07\n",
      "   ----------------------------- ---------- 1.6/2.1 MB 88.9 kB/s eta 0:00:07\n",
      "   ----------------------------- ---------- 1.6/2.1 MB 88.9 kB/s eta 0:00:07\n",
      "   ---------------------------------- ----- 1.8/2.1 MB 88.8 kB/s eta 0:00:04\n",
      "   ---------------------------------- ----- 1.8/2.1 MB 88.8 kB/s eta 0:00:04\n",
      "   ---------------------------------- ----- 1.8/2.1 MB 88.8 kB/s eta 0:00:04\n",
      "   ---------------------------------- ----- 1.8/2.1 MB 88.8 kB/s eta 0:00:04\n",
      "   ---------------------------------- ----- 1.8/2.1 MB 88.8 kB/s eta 0:00:04\n",
      "   ---------------------------------- ----- 1.8/2.1 MB 88.8 kB/s eta 0:00:04\n",
      "   ---------------------------------- ----- 1.8/2.1 MB 88.8 kB/s eta 0:00:04\n",
      "   ---------------------------------- ----- 1.8/2.1 MB 88.8 kB/s eta 0:00:04\n",
      "   ---------------------------------- ----- 1.8/2.1 MB 88.8 kB/s eta 0:00:04\n",
      "   ---------------------------------- ----- 1.8/2.1 MB 88.8 kB/s eta 0:00:04\n",
      "   ---------------------------------- ----- 1.8/2.1 MB 88.8 kB/s eta 0:00:04\n",
      "   ---------------------------------------  2.1/2.1 MB 92.3 kB/s eta 0:00:01\n",
      "   ---------------------------------------  2.1/2.1 MB 92.3 kB/s eta 0:00:01\n",
      "   ---------------------------------------- 2.1/2.1 MB 91.1 kB/s eta 0:00:00\n",
      "Downloading python_magic-0.4.27-py2.py3-none-any.whl (13 kB)\n",
      "Downloading python_magic_bin-0.4.14-py2.py3-none-win_amd64.whl (409 kB)\n",
      "Downloading backoff-2.2.1-py3-none-any.whl (15 kB)\n",
      "Downloading emoji-2.12.1-py3-none-any.whl (431 kB)\n",
      "Downloading filetype-1.2.0-py2.py3-none-any.whl (19 kB)\n",
      "Downloading python_iso639-2024.4.27-py3-none-any.whl (274 kB)\n",
      "Downloading python_oxmsg-0.0.1-py3-none-any.whl (31 kB)\n",
      "Downloading unstructured_client-0.8.1-py3-none-any.whl (19 kB)\n",
      "Downloading charset_normalizer-2.1.1-py3-none-any.whl (39 kB)\n",
      "Downloading idna-3.8-py3-none-any.whl (66 kB)\n",
      "Downloading jsonpath_python-1.0.6-py3-none-any.whl (7.6 kB)\n",
      "Downloading marshmallow_enum-1.5.1-py2.py3-none-any.whl (4.2 kB)\n",
      "Downloading olefile-0.47-py2.py3-none-any.whl (114 kB)\n",
      "Building wheels for collected packages: libmagic, langdetect\n",
      "  Building wheel for libmagic (setup.py): started\n",
      "  Building wheel for libmagic (setup.py): finished with status 'done'\n",
      "  Created wheel for libmagic: filename=libmagic-1.0-py3-none-any.whl size=4280 sha256=2d141a1a2bab2eb508578873a476ad7b94041c21bca9590faf41a256a729b0cf\n",
      "  Stored in directory: c:\\users\\suman\\appdata\\local\\pip\\cache\\wheels\\31\\ce\\d8\\099fbd4dbfa5da5596a39eee8a17d2e1bcc29006c07d3563b7\n",
      "  Building wheel for langdetect (setup.py): started\n",
      "  Building wheel for langdetect (setup.py): finished with status 'done'\n",
      "  Created wheel for langdetect: filename=langdetect-1.0.9-py3-none-any.whl size=993250 sha256=91f7bfcb8100573979ab1d4e35430a1f0d4af898eacd6478108850ccc97712f5\n",
      "  Stored in directory: c:\\users\\suman\\appdata\\local\\pip\\cache\\wheels\\95\\03\\7d\\59ea870c70ce4e5a370638b5462a7711ab78fba2f655d05106\n",
      "Successfully built libmagic langdetect\n",
      "Installing collected packages: python-magic-bin, libmagic, filetype, python-magic, python-iso639, olefile, langdetect, jsonpath-python, idna, emoji, charset-normalizer, backoff, python-oxmsg, marshmallow-enum, unstructured-client, unstructured\n",
      "  Attempting uninstall: idna\n",
      "    Found existing installation: idna 2.10\n",
      "    Uninstalling idna-2.10:\n",
      "      Successfully uninstalled idna-2.10\n",
      "  Attempting uninstall: charset-normalizer\n",
      "    Found existing installation: charset-normalizer 2.0.4\n",
      "    Uninstalling charset-normalizer-2.0.4:\n",
      "      Successfully uninstalled charset-normalizer-2.0.4\n",
      "Successfully installed backoff-2.2.1 charset-normalizer-2.1.1 emoji-2.12.1 filetype-1.2.0 idna-3.8 jsonpath-python-1.0.6 langdetect-1.0.9 libmagic-1.0 marshmallow-enum-1.5.1 olefile-0.47 python-iso639-2024.4.27 python-magic-0.4.27 python-magic-bin-0.4.14 python-oxmsg-0.0.1 unstructured-0.15.9 unstructured-client-0.8.1\n"
     ]
    },
    {
     "name": "stderr",
     "output_type": "stream",
     "text": [
      "ERROR: pip's dependency resolver does not currently take into account all the packages that are installed. This behaviour is the source of the following dependency conflicts.\n",
      "httpx 0.13.3 requires idna==2.*, but you have idna 3.8 which is incompatible.\n",
      "openai 1.37.0 requires httpx<1,>=0.23.0, but you have httpx 0.13.3 which is incompatible.\n",
      "tensorflow-intel 2.17.0 requires keras>=3.2.0, but you have keras 2.10.0 which is incompatible.\n",
      "tensorflow-intel 2.17.0 requires protobuf!=4.21.0,!=4.21.1,!=4.21.2,!=4.21.3,!=4.21.4,!=4.21.5,<5.0.0dev,>=3.20.3, but you have protobuf 3.19.6 which is incompatible.\n",
      "tensorflow-intel 2.17.0 requires tensorboard<2.18,>=2.17, but you have tensorboard 2.10.1 which is incompatible.\n"
     ]
    }
   ],
   "source": [
    "# Installing necessary libraries\n",
    "# Here, libmagic is used for file type detection\n",
    "\n",
    "!pip3 install unstructured libmagic python-magic python-magic-bin"
   ]
  },
  {
   "cell_type": "code",
   "execution_count": 15,
   "id": "442401e9",
   "metadata": {},
   "outputs": [],
   "source": [
    "from langchain.document_loaders import UnstructuredURLLoader"
   ]
  },
  {
   "cell_type": "code",
   "execution_count": 16,
   "id": "cf83b942",
   "metadata": {},
   "outputs": [],
   "source": [
    "loader = UnstructuredURLLoader(\n",
    "    urls = [\n",
    "        \"https://www.moneycontrol.com/news/business/banks/hdfc-bank-re-appoints-sanmoy-chakrabarti-as-chief-risk-officer-11259771.html\",\n",
    "        \"https://www.moneycontrol.com/news/business/markets/market-corrects-post-rbi-ups-inflation-forecast-icrr-bet-on-these-top-10-rate-sensitive-stocks-ideas-11142611.html\"\n",
    "    ]\n",
    ")"
   ]
  },
  {
   "cell_type": "code",
   "execution_count": null,
   "id": "7abe5878",
   "metadata": {},
   "outputs": [],
   "source": [
    "data = loader.load()\n",
    "len(data)"
   ]
  },
  {
   "cell_type": "code",
   "execution_count": null,
   "id": "00bad6a0",
   "metadata": {},
   "outputs": [],
   "source": [
    "data[0].page_content[:100]"
   ]
  },
  {
   "cell_type": "code",
   "execution_count": null,
   "id": "bf25b85f",
   "metadata": {},
   "outputs": [],
   "source": [
    "data[0].metadata"
   ]
  },
  {
   "cell_type": "code",
   "execution_count": null,
   "id": "d1a38329",
   "metadata": {},
   "outputs": [],
   "source": []
  }
 ],
 "metadata": {
  "kernelspec": {
   "display_name": "Python 3 (ipykernel)",
   "language": "python",
   "name": "python3"
  },
  "language_info": {
   "codemirror_mode": {
    "name": "ipython",
    "version": 3
   },
   "file_extension": ".py",
   "mimetype": "text/x-python",
   "name": "python",
   "nbconvert_exporter": "python",
   "pygments_lexer": "ipython3",
   "version": "3.10.9"
  }
 },
 "nbformat": 4,
 "nbformat_minor": 5
}
